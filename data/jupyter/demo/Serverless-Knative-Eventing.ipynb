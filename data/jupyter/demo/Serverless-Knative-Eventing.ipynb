{
 "cells": [
  {
   "cell_type": "markdown",
   "metadata": {},
   "source": [
    "# Knative\n",
    "\n",
    "Knative (ausgesprochen kay-nay-tiv) erweitert Kubernetes um eine Reihe von Middleware-Komponenten, die für die Erstellung moderner, container-basierter Anwendungen unerlässlich sind.\n",
    "\n",
    "Knative Komponenten konzentrieren sich auf die Lösung alltäglicher, aber schwieriger Aufgaben wie:\n",
    "\n",
    "* Bereitstellen eines Containers\n",
    "* Routing und Verwaltung des Datenverkehrs mit blue / green Bereitstellung\n",
    "* Automatische Skalierung des Workloads\n",
    "* Bindung laufender Dienste an mehrere Ökosysteme"
   ]
  },
  {
   "cell_type": "markdown",
   "metadata": {},
   "source": [
    "***\n",
    "Eventing \n",
    "--------\n",
    "\n",
    "![](https://knative.dev/docs/eventing/images/broker-trigger-overview.svg)\n",
    "\n",
    "Quelle: knative.dev\n",
    "- - -\n",
    "\n",
    "Mit Knative Eventing stehen zusammensetzbare Grundelemente bereit, um ein System von Ereignisquellen (Producer) und Ereigniskonsumenten (Consumer) zu ermöglichen.\n",
    "\n",
    "Dabei sind folgende Funktionalitäten möglich:\n",
    "* Ich möchte nur Events veröffentlichen, es ist mir egal, wer sie konsumiert.\n",
    "* Ich möchte nur Events wie X konsumieren, es ist mir egal, wie sie veröffentlicht werden.\n",
    "* Ich möchte Events durch eine Reihe von Schritten transformieren.\n",
    "\n",
    "### Installation\n",
    "\n",
    "Zuerst brauchen wir einen [Channel Based Broker](https://knative.dev/v0.13-docs/eventing/channel-based-broker/) und den dazugehörenden [In Memory Channel](https://knative.dev/docs/eventing/channels/channels-crds/)."
   ]
  },
  {
   "cell_type": "code",
   "execution_count": null,
   "metadata": {},
   "outputs": [],
   "source": [
    "%%bash\n",
    "kubectl apply  --selector knative.dev/crd-install=true \\\n",
    "--filename https://github.com/knative/eventing/releases/download/v0.15.0/eventing.yaml\n",
    "kubectl apply --filename https://github.com/knative/eventing/releases/download/v0.15.0/eventing.yaml\n",
    "kubectl apply --filename https://github.com/knative/eventing/releases/download/v0.15.0/in-memory-channel.yaml\n",
    "\n",
    "cat <<%EOF% | kubectl apply -f -\n",
    "apiVersion: v1\n",
    "kind: ConfigMap\n",
    "metadata:\n",
    "  name: config-br-defaults\n",
    "  namespace: knative-eventing\n",
    "data:\n",
    "  default-br-config: |\n",
    "    # This is the cluster-wide default broker channel.\n",
    "    clusterDefault:\n",
    "      brokerClass: ChannelBasedBroker\n",
    "      apiVersion: v1\n",
    "      kind: ConfigMap\n",
    "      name: imc-channel\n",
    "      namespace: knative-eventing\n",
    "%EOF%\n",
    "\n",
    "cat <<%EOF% | kubectl apply -f -\n",
    "apiVersion: v1\n",
    "kind: ConfigMap\n",
    "metadata:\n",
    "  name: imc-channel\n",
    "  namespace: knative-eventing\n",
    "data:\n",
    "  channelTemplateSpec: |\n",
    "    apiVersion: messaging.knative.dev/v1beta1\n",
    "    kind: InMemoryChannel\n",
    "%EOF%\n"
   ]
  },
  {
   "cell_type": "code",
   "execution_count": null,
   "metadata": {},
   "outputs": [],
   "source": [
    "! kubectl get pods --namespace knative-eventing"
   ]
  },
  {
   "cell_type": "markdown",
   "metadata": {},
   "source": [
    "- - - \n",
    "Nach der Installation des Eventing können wir Namespaces mit Unterstützung des Event Systems erstellen"
   ]
  },
  {
   "cell_type": "code",
   "execution_count": null,
   "metadata": {},
   "outputs": [],
   "source": [
    "! kubectl create namespace event-example\n",
    "! kubectl label namespace event-example knative-eventing-injection=enabled"
   ]
  },
  {
   "cell_type": "markdown",
   "metadata": {},
   "source": [
    "Und uns den erstellen Broker anzeigen lassen"
   ]
  },
  {
   "cell_type": "code",
   "execution_count": null,
   "metadata": {},
   "outputs": [],
   "source": [
    "! kubectl --namespace event-example get Broker default"
   ]
  },
  {
   "cell_type": "markdown",
   "metadata": {},
   "source": [
    "### Creating event consumers\n",
    "\n",
    "Als Event Consumer starten wir unseren Service `hello-display` als Deployments.\n",
    "\n",
    "Der Sourcecode zum Services ist auf https://github.com/knative/eventing-contrib/tree/master/cmd/event_display zu finden."
   ]
  },
  {
   "cell_type": "code",
   "execution_count": null,
   "metadata": {},
   "outputs": [],
   "source": [
    "%%bash\n",
    "kubectl --namespace event-example apply --filename - << END\n",
    "apiVersion: apps/v1\n",
    "kind: Deployment\n",
    "metadata:\n",
    "  name: hello-display\n",
    "spec:\n",
    "  replicas: 1\n",
    "  selector:\n",
    "    matchLabels: &labels\n",
    "      app: hello-display\n",
    "  template:\n",
    "    metadata:\n",
    "      labels: *labels\n",
    "    spec:\n",
    "      containers:\n",
    "        - name: event-display\n",
    "          # Source code: https://github.com/knative/eventing-contrib/tree/master/cmd/event_display\n",
    "          image: gcr.io/knative-releases/knative.dev/eventing-contrib/cmd/event_display\n",
    "\n",
    "---\n",
    "\n",
    "# Service pointing at the previous Deployment. This will be the target for event\n",
    "# consumption.\n",
    "  kind: Service\n",
    "  apiVersion: v1\n",
    "  metadata:\n",
    "    name: hello-display\n",
    "  spec:\n",
    "    selector:\n",
    "      app: hello-display\n",
    "    ports:\n",
    "    - protocol: TCP\n",
    "      port: 80\n",
    "      targetPort: 8080\n",
    "END"
   ]
  },
  {
   "cell_type": "code",
   "execution_count": null,
   "metadata": {},
   "outputs": [],
   "source": [
    "! kubectl --namespace event-example get all"
   ]
  },
  {
   "cell_type": "markdown",
   "metadata": {},
   "source": [
    "### Creating Triggers\n",
    "\n",
    "Trigger verbinden die Events mit unseren Service \"hello-display\"."
   ]
  },
  {
   "cell_type": "code",
   "execution_count": null,
   "metadata": {},
   "outputs": [],
   "source": [
    "%%bash\n",
    "kubectl --namespace event-example apply --filename - << END\n",
    "apiVersion: eventing.knative.dev/v1alpha1\n",
    "kind: Trigger\n",
    "metadata:\n",
    "  name: hello-display\n",
    "spec:\n",
    "  filter:\n",
    "    attributes:\n",
    "      type: greeting\n",
    "  subscriber:\n",
    "    ref:\n",
    "     apiVersion: v1\n",
    "     kind: Service\n",
    "     name: hello-display\n",
    "END"
   ]
  },
  {
   "cell_type": "code",
   "execution_count": null,
   "metadata": {},
   "outputs": [],
   "source": [
    "! kubectl --namespace event-example get triggers"
   ]
  },
  {
   "cell_type": "markdown",
   "metadata": {},
   "source": [
    "Sobald der Trigger READY ist, können wir Events gegen diesen Feuern:"
   ]
  },
  {
   "cell_type": "code",
   "execution_count": null,
   "metadata": {},
   "outputs": [],
   "source": [
    "%%bash\n",
    "curl -v \"http://broker-ingress.knative-eventing.svc.cluster.local/event-example/default\" \\\n",
    "  -X POST \\\n",
    "  -H \"Ce-Id: say-hello\" \\\n",
    "  -H \"Ce-Specversion: 0.3\" \\\n",
    "  -H \"Ce-Type: greeting\" \\\n",
    "  -H \"Ce-Source: not-sendoff\" \\\n",
    "  -H \"Content-Type: application/json\" \\\n",
    "  -d '{\"msg\":\"Hello Knative!\"}'\n",
    "  "
   ]
  },
  {
   "cell_type": "markdown",
   "metadata": {},
   "source": [
    "Als Prüfung ob der Event auch angekommen ist, geben wird das Log unseres Consumers aus:"
   ]
  },
  {
   "cell_type": "code",
   "execution_count": null,
   "metadata": {},
   "outputs": [],
   "source": [
    "! kubectl --namespace event-example logs -l app=hello-display --tail=100"
   ]
  },
  {
   "cell_type": "markdown",
   "metadata": {},
   "source": [
    "Aufräumen"
   ]
  },
  {
   "cell_type": "code",
   "execution_count": null,
   "metadata": {},
   "outputs": [],
   "source": [
    "! kubectl delete namespace event-example"
   ]
  },
  {
   "cell_type": "code",
   "execution_count": null,
   "metadata": {},
   "outputs": [],
   "source": []
  }
 ],
 "metadata": {
  "kernelspec": {
   "display_name": "Python 3",
   "language": "python",
   "name": "python3"
  },
  "language_info": {
   "codemirror_mode": {
    "name": "ipython",
    "version": 3
   },
   "file_extension": ".py",
   "mimetype": "text/x-python",
   "name": "python",
   "nbconvert_exporter": "python",
   "pygments_lexer": "ipython3",
   "version": "3.7.3"
  }
 },
 "nbformat": 4,
 "nbformat_minor": 2
}
