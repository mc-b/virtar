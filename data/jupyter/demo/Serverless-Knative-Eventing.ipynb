{
 "cells": [
  {
   "cell_type": "markdown",
   "metadata": {},
   "source": [
    "# Knative\n",
    "\n",
    "Knative (ausgesprochen kay-nay-tiv) erweitert Kubernetes um eine Reihe von Middleware-Komponenten, die für die Erstellung moderner, container-basierter Anwendungen unerlässlich sind.\n",
    "\n",
    "Knative Komponenten konzentrieren sich auf die Lösung alltäglicher, aber schwieriger Aufgaben wie:\n",
    "\n",
    "* Bereitstellen eines Containers\n",
    "* Routing und Verwaltung des Datenverkehrs mit blue / green Bereitstellung\n",
    "* Automatische Skalierung des Workloads\n",
    "* Bindung laufender Dienste an mehrere Ökosysteme"
   ]
  },
  {
   "cell_type": "markdown",
   "metadata": {},
   "source": [
    "***\n",
    "Eventing \n",
    "--------\n",
    "\n",
    "![](https://user-images.githubusercontent.com/16281246/116248768-1fe56080-a73a-11eb-9a85-8bdccb82d16c.png)\n",
    "\n",
    "Quelle: [knative.dev](https://knative.dev/docs/getting-started/first-broker/)\n",
    "- - -\n",
    "\n",
    "Mit Knative Eventing stehen zusammensetzbare Grundelemente bereit, um ein System von Ereignisquellen (Producer) und Ereigniskonsumenten (Consumer) zu ermöglichen.\n",
    "\n",
    "Dabei sind folgende Funktionalitäten möglich:\n",
    "* Ich möchte nur Events veröffentlichen, es ist mir egal, wer sie konsumiert.\n",
    "* Ich möchte nur Events wie X konsumieren, es ist mir egal, wie sie veröffentlicht werden.\n",
    "* Ich möchte Events durch eine Reihe von Schritten transformieren.\n",
    "\n",
    "### Installation\n",
    "\n",
    "Zuerst brauchen wir einen [Channel Based Broker](https://knative.dev/v0.13-docs/eventing/channel-based-broker/) und den dazugehörenden [In Memory Channel](https://knative.dev/docs/eventing/channels/channels-crds/)."
   ]
  },
  {
   "cell_type": "code",
   "execution_count": null,
   "metadata": {},
   "outputs": [],
   "source": [
    "%%bash\n",
    "kubectl apply -f https://github.com/knative/eventing/releases/download/knative-v1.4.1/eventing-crds.yaml\n",
    "kubectl apply -f https://github.com/knative/eventing/releases/download/knative-v1.4.1/eventing-core.yaml\n",
    "kubectl apply -f https://github.com/knative/eventing/releases/download/knative-v1.4.1/in-memory-channel.yaml"
   ]
  },
  {
   "cell_type": "markdown",
   "metadata": {},
   "source": [
    "Überprüfen der Installation. Es müssen 4 Container gestartet sein "
   ]
  },
  {
   "cell_type": "code",
   "execution_count": null,
   "metadata": {},
   "outputs": [],
   "source": [
    "%%bash\n",
    "kubectl get pods -n knative-eventing"
   ]
  },
  {
   "cell_type": "markdown",
   "metadata": {},
   "source": [
    "## Applikation"
   ]
  },
  {
   "cell_type": "code",
   "execution_count": null,
   "metadata": {},
   "outputs": [],
   "source": [
    "%%bash\n",
    "kubectl create namespace event-example\n",
    "kubectl label namespace event-example eventing.knative.dev/injection=enabled\n",
    "cat <<%EOF% | kubectl apply -n event-example -f -\n",
    "apiVersion: eventing.knative.dev/v1\n",
    "kind: Broker\n",
    "metadata:\n",
    " name: default\n",
    " namespace: event-example\n",
    "%EOF%"
   ]
  },
  {
   "cell_type": "code",
   "execution_count": null,
   "metadata": {},
   "outputs": [],
   "source": [
    "%%bash\n",
    "kubectl --namespace event-example get Broker default"
   ]
  },
  {
   "cell_type": "markdown",
   "metadata": {},
   "source": [
    "### Creating event consumers\n",
    "\n",
    "Als Event Consumer starten wir unseren Service `hello-display` als Deployments.\n",
    "\n",
    "Der Sourcecode zum Services ist auf https://github.com/knative/eventing-contrib/tree/master/cmd/event_display zu finden."
   ]
  },
  {
   "cell_type": "code",
   "execution_count": null,
   "metadata": {},
   "outputs": [],
   "source": [
    "%%bash\n",
    "kubectl --namespace event-example apply --filename - << END\n",
    "apiVersion: apps/v1\n",
    "kind: Deployment\n",
    "metadata:\n",
    "  name: hello-display\n",
    "spec:\n",
    "  replicas: 1\n",
    "  selector:\n",
    "    matchLabels: &labels\n",
    "      app: hello-display\n",
    "  template:\n",
    "    metadata:\n",
    "      labels: *labels\n",
    "    spec:\n",
    "      containers:\n",
    "        - name: event-display\n",
    "          # Source code: https://github.com/knative/eventing-contrib/tree/master/cmd/event_display\n",
    "          image: gcr.io/knative-releases/knative.dev/eventing-contrib/cmd/event_display\n",
    "\n",
    "---\n",
    "\n",
    "# Service pointing at the previous Deployment. This will be the target for event\n",
    "# consumption.\n",
    "  kind: Service\n",
    "  apiVersion: v1\n",
    "  metadata:\n",
    "    name: hello-display\n",
    "  spec:\n",
    "    selector:\n",
    "      app: hello-display\n",
    "    ports:\n",
    "    - protocol: TCP\n",
    "      port: 80\n",
    "      targetPort: 8080\n",
    "END"
   ]
  },
  {
   "cell_type": "code",
   "execution_count": null,
   "metadata": {},
   "outputs": [],
   "source": [
    "! kubectl --namespace event-example get all"
   ]
  },
  {
   "cell_type": "markdown",
   "metadata": {},
   "source": [
    "### Creating Triggers\n",
    "\n",
    "Trigger verbinden die Events mit unseren Service \"hello-display\"."
   ]
  },
  {
   "cell_type": "code",
   "execution_count": null,
   "metadata": {},
   "outputs": [],
   "source": [
    "%%bash\n",
    "kubectl --namespace event-example apply --filename - << END\n",
    "apiVersion: eventing.knative.dev/v1\n",
    "kind: Trigger\n",
    "metadata:\n",
    "  name: hello-display\n",
    "  namespace: event-example\n",
    "spec:\n",
    "  broker: default\n",
    "  filter:\n",
    "    attributes:\n",
    "      type: greeting\n",
    "  subscriber:\n",
    "    ref:\n",
    "     apiVersion: v1\n",
    "     kind: Service\n",
    "     name: hello-display\n",
    "END"
   ]
  },
  {
   "cell_type": "code",
   "execution_count": null,
   "metadata": {},
   "outputs": [],
   "source": [
    "! kubectl --namespace event-example get triggers"
   ]
  },
  {
   "cell_type": "markdown",
   "metadata": {},
   "source": [
    "Sobald der Trigger READY ist, können wir Events gegen diesen Feuern:"
   ]
  },
  {
   "cell_type": "code",
   "execution_count": null,
   "metadata": {},
   "outputs": [],
   "source": [
    "%%bash\n",
    "curl -v \"http://broker-ingress.knative-eventing/event-example/default\" \\\n",
    "-X POST \\\n",
    "-H \"Ce-Id: say-hello\" \\\n",
    "-H \"Ce-Specversion: 1.0\" \\\n",
    "-H \"Ce-Type: greeting\" \\\n",
    "-H \"Ce-Source: not-sendoff\" \\\n",
    "-H \"Content-Type: application/json\" \\\n",
    "-d '{\"msg\":\"Hello Knative!\"}'\n",
    " "
   ]
  },
  {
   "cell_type": "markdown",
   "metadata": {},
   "source": [
    "Als Prüfung ob der Event auch angekommen ist, geben wird das Log unseres Consumers aus:"
   ]
  },
  {
   "cell_type": "code",
   "execution_count": null,
   "metadata": {},
   "outputs": [],
   "source": [
    "! kubectl --namespace event-example logs -l app=hello-display --tail=100"
   ]
  },
  {
   "cell_type": "markdown",
   "metadata": {},
   "source": [
    "Aufräumen"
   ]
  },
  {
   "cell_type": "code",
   "execution_count": null,
   "metadata": {},
   "outputs": [],
   "source": [
    "%%bash\n",
    "kubectl delete namespace event-example\n",
    "kubectl delete namespace knative-eventing\n"
   ]
  },
  {
   "cell_type": "code",
   "execution_count": null,
   "metadata": {},
   "outputs": [],
   "source": []
  }
 ],
 "metadata": {
  "kernelspec": {
   "display_name": "Python 3 (ipykernel)",
   "language": "python",
   "name": "python3"
  },
  "language_info": {
   "codemirror_mode": {
    "name": "ipython",
    "version": 3
   },
   "file_extension": ".py",
   "mimetype": "text/x-python",
   "name": "python",
   "nbconvert_exporter": "python",
   "pygments_lexer": "ipython3",
   "version": "3.9.6"
  }
 },
 "nbformat": 4,
 "nbformat_minor": 2
}
