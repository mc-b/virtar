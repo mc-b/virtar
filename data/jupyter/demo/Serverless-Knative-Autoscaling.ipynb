{
 "cells": [
  {
   "cell_type": "markdown",
   "metadata": {},
   "source": [
    "# Knative\n",
    "\n",
    "Knative (ausgesprochen kay-nay-tiv) erweitert Kubernetes um eine Reihe von Middleware-Komponenten, die für die Erstellung moderner, container-basierter Anwendungen unerlässlich sind.\n",
    "\n",
    "Knative Komponenten konzentrieren sich auf die Lösung alltäglicher, aber schwieriger Aufgaben wie:\n",
    "\n",
    "* Bereitstellen eines Containers\n",
    "* Routing und Verwaltung des Datenverkehrs mit blue / green Bereitstellung\n",
    "* Automatische Skalierung des Workloads\n",
    "* Bindung laufender Dienste an mehrere Ökosysteme"
   ]
  },
  {
   "cell_type": "markdown",
   "metadata": {},
   "source": [
    "***\n",
    "## [Autoscaling](https://knative.dev/docs/serving/configuring-autoscaling/)\n",
    "\n",
    "Knative unterstützt folgende Arten von Autoscaling:\n",
    "* concurrency  \n",
    "* requests-per-seconds (rps)\n",
    "\n",
    "### Installation"
   ]
  },
  {
   "cell_type": "code",
   "execution_count": null,
   "metadata": {},
   "outputs": [],
   "source": [
    "%%bash\n",
    "kubectl apply -f https://github.com/knative/serving/releases/download/knative-v1.7.2/serving-crds.yaml\n",
    "kubectl apply -f https://github.com/knative/serving/releases/download/knative-v1.7.2/serving-core.yaml\n",
    "kubectl apply -l knative.dev/crd-install=true -f https://github.com/knative/net-istio/releases/download/knative-v1.7.0/istio.yaml\n",
    "kubectl apply -f https://github.com/knative/net-istio/releases/download/knative-v1.7.0/istio.yaml\n",
    "kubectl apply -f https://github.com/knative/net-istio/releases/download/knative-v1.7.0/net-istio.yaml\n",
    "kubectl apply -f https://github.com/knative/serving/releases/download/knative-v1.7.2/serving-hpa.yaml"
   ]
  },
  {
   "cell_type": "markdown",
   "metadata": {},
   "source": [
    "Installation überprüfen. Es müssen 9 Container gestartet sein."
   ]
  },
  {
   "cell_type": "code",
   "execution_count": null,
   "metadata": {},
   "outputs": [],
   "source": [
    "%%bash\n",
    "kubectl get pods -n knative-serving\n",
    "kubectl --namespace istio-system get service istio-ingressgateway"
   ]
  },
  {
   "cell_type": "markdown",
   "metadata": {},
   "source": [
    "***\n",
    "### Beispiel Autoscaling \n",
    "\n",
    "Wir haben einen Service welcher immer wieder Spitzenbelastungen aufweist, z.B. Black Friday etc.\n",
    "\n",
    "Dieser soll automatisch hochskaliert werden, wenn zuwenig Pods vorhanden sind."
   ]
  },
  {
   "cell_type": "code",
   "execution_count": null,
   "metadata": {},
   "outputs": [],
   "source": [
    "! kubectl create namespace autoscaling"
   ]
  },
  {
   "cell_type": "code",
   "execution_count": null,
   "metadata": {},
   "outputs": [],
   "source": [
    "%%bash\n",
    "cat <<%EOF% | kubectl apply -f -\n",
    "apiVersion: serving.knative.dev/v1 # Current version of Knative\n",
    "kind: Service\n",
    "metadata:\n",
    "  name: helloworld-go # The name of the app\n",
    "  namespace: autoscaling # The namespace the app will use\n",
    "spec:\n",
    "  template:\n",
    "    metadata:\n",
    "      annotations:\n",
    "        autoscaling.knative.dev/metric: \"rps\"  \n",
    "        autoscaling.knative.dev/target: \"150\"        \n",
    "    spec:\n",
    "      containers:\n",
    "        - image: gcr.io/knative-samples/helloworld-go # The URL to the image of the app\n",
    "          env:\n",
    "            - name: TARGET # The environment variable printed out by the sample app\n",
    "              value: \"ich werde automatisch Skaliert!\"\n",
    "%EOF%"
   ]
  },
  {
   "cell_type": "markdown",
   "metadata": {},
   "source": [
    "Schauen wir uns nun die erstellten Ressourcen an.\n",
    "\n",
    "Der eigentliche Service (Pods) wird am Anfang gestartet und nach einer bestimmen Leerlaufzeit beendet. Das ReplicaSet setzt die Anzahl Pods auf 0."
   ]
  },
  {
   "cell_type": "code",
   "execution_count": null,
   "metadata": {},
   "outputs": [],
   "source": [
    "! kubectl get all --namespace autoscaling"
   ]
  },
  {
   "cell_type": "markdown",
   "metadata": {},
   "source": [
    "Nun erzeugen wir Last auf dem Services und schauen an wie die Pods skaliert werden."
   ]
  },
  {
   "cell_type": "code",
   "execution_count": null,
   "metadata": {},
   "outputs": [],
   "source": [
    "%%bash\n",
    "for x in {1..1000}\n",
    "do\n",
    "curl -s -H \"Host: helloworld-go.autoscaling.example.com\" istio-ingressgateway.istio-system >/dev/null &\n",
    "done\n",
    "kubectl get pods --namespace autoscaling"
   ]
  },
  {
   "cell_type": "markdown",
   "metadata": {},
   "source": [
    "- - -\n",
    "Aufräumen, kann auch Verwendet werden wenn die Ressoucen auf Status Ready=Unknown verbleiben."
   ]
  },
  {
   "cell_type": "code",
   "execution_count": null,
   "metadata": {},
   "outputs": [],
   "source": [
    "! kubectl delete namespace autoscaling"
   ]
  },
  {
   "cell_type": "code",
   "execution_count": null,
   "metadata": {},
   "outputs": [],
   "source": []
  }
 ],
 "metadata": {
  "kernelspec": {
   "display_name": "Python 3 (ipykernel)",
   "language": "python",
   "name": "python3"
  },
  "language_info": {
   "codemirror_mode": {
    "name": "ipython",
    "version": 3
   },
   "file_extension": ".py",
   "mimetype": "text/x-python",
   "name": "python",
   "nbconvert_exporter": "python",
   "pygments_lexer": "ipython3",
   "version": "3.9.6"
  }
 },
 "nbformat": 4,
 "nbformat_minor": 2
}
