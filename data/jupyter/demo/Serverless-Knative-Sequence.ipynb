{
 "cells": [
  {
   "cell_type": "markdown",
   "metadata": {},
   "source": [
    "# Knative\n",
    "\n",
    "Knative (ausgesprochen kay-nay-tiv) erweitert Kubernetes um eine Reihe von Middleware-Komponenten, die für die Erstellung moderner, container-basierter Anwendungen unerlässlich sind.\n",
    "\n",
    "Knative Komponenten konzentrieren sich auf die Lösung alltäglicher, aber schwieriger Aufgaben wie:\n",
    "\n",
    "* Bereitstellen eines Containers\n",
    "* Routing und Verwaltung des Datenverkehrs mit blue / green Bereitstellung\n",
    "* Automatische Skalierung des Workloads\n",
    "* Bindung laufender Dienste an mehrere Ökosysteme"
   ]
  },
  {
   "cell_type": "markdown",
   "metadata": {},
   "source": [
    "***\n",
    "Sequence\n",
    "--------\n",
    "\n",
    "![](https://knative.dev/docs/eventing/samples/sequence/sequence-terminal/sequence-terminal.png)\n",
    "\n",
    "Quelle: knative.dev\n",
    "- - -\n",
    "\n",
    "Basierend auf: https://github.com/knative/eventing-contrib/blob/master/cmd/appender/main.go"
   ]
  },
  {
   "cell_type": "code",
   "execution_count": null,
   "metadata": {},
   "outputs": [],
   "source": [
    "! kubectl create namespace sequence\n",
    "! # kubectl label namespace sequence-example knative-eventing-injection=enabled"
   ]
  },
  {
   "cell_type": "markdown",
   "metadata": {},
   "source": [
    "- - - \n",
    "Erstellen der Knative Services"
   ]
  },
  {
   "cell_type": "code",
   "execution_count": null,
   "metadata": {},
   "outputs": [],
   "source": [
    "%%bash\n",
    "cat <<%EOF% | kubectl apply -f -\n",
    "apiVersion: serving.knative.dev/v1\n",
    "kind: Service\n",
    "metadata:\n",
    "  name: first\n",
    "  namespace: sequence     \n",
    "spec:\n",
    "  template:\n",
    "    spec:\n",
    "      containers:\n",
    "        - image: gcr.io/knative-releases/knative.dev/eventing-contrib/cmd/appender\n",
    "          env:\n",
    "            - name: MESSAGE\n",
    "              value: \" - Handled by 0\"\n",
    "\n",
    "---\n",
    "apiVersion: serving.knative.dev/v1\n",
    "kind: Service\n",
    "metadata:\n",
    "  name: second\n",
    "  namespace: sequence     \n",
    "spec:\n",
    "  template:\n",
    "    spec:\n",
    "      containers:\n",
    "        - image: gcr.io/knative-releases/knative.dev/eventing-contrib/cmd/appender\n",
    "          env:\n",
    "            - name: MESSAGE\n",
    "              value: \" - Handled by 1\"\n",
    "---\n",
    "apiVersion: serving.knative.dev/v1\n",
    "kind: Service\n",
    "metadata:\n",
    "  name: third\n",
    "  namespace: sequence     \n",
    "spec:\n",
    "  template:\n",
    "    spec:\n",
    "      containers:\n",
    "        - image: gcr.io/knative-releases/knative.dev/eventing-contrib/cmd/appender\n",
    "          env:\n",
    "            - name: MESSAGE\n",
    "              value: \" - Handled by 2\"\n",
    "%EOF%\n"
   ]
  },
  {
   "cell_type": "markdown",
   "metadata": {},
   "source": [
    "Erstellen der Sequenzen"
   ]
  },
  {
   "cell_type": "code",
   "execution_count": null,
   "metadata": {},
   "outputs": [],
   "source": [
    "%%bash\n",
    "cat <<%EOF% | kubectl apply -f -\n",
    "apiVersion: flows.knative.dev/v1beta1\n",
    "kind: Sequence\n",
    "metadata:\n",
    "  name: sequence\n",
    "  namespace: sequence     \n",
    "spec:\n",
    "  channelTemplate:\n",
    "    apiVersion: messaging.knative.dev/v1beta1\n",
    "    kind: InMemoryChannel\n",
    "  steps:\n",
    "    - ref:\n",
    "        apiVersion: serving.knative.dev/v1\n",
    "        kind: Service\n",
    "        name: first\n",
    "        namespace: sequence        \n",
    "    - ref:\n",
    "        apiVersion: serving.knative.dev/v1\n",
    "        kind: Service\n",
    "        name: second\n",
    "        namespace: sequence        \n",
    "    - ref:\n",
    "        apiVersion: serving.knative.dev/v1\n",
    "        kind: Service\n",
    "        name: third\n",
    "        namespace: sequence     \n",
    "%EOF%\n"
   ]
  },
  {
   "cell_type": "markdown",
   "metadata": {},
   "source": [
    "Als Event Auslöser verwenden wir `PingSource` "
   ]
  },
  {
   "cell_type": "code",
   "execution_count": null,
   "metadata": {},
   "outputs": [],
   "source": [
    "%%bash\n",
    "cat <<%EOF% | kubectl apply -f -\n",
    "apiVersion: sources.knative.dev/v1alpha2\n",
    "kind: PingSource\n",
    "metadata:\n",
    "  name: ping-source\n",
    "  namespace: sequence     \n",
    "spec:\n",
    "  schedule: \"*/2 * * * *\"\n",
    "  jsonData: '{\"message\": \"DatenSequence\"}'\n",
    "  sink:\n",
    "    ref:\n",
    "      apiVersion: flows.knative.dev/v1beta1\n",
    "      kind: Sequence\n",
    "      name: sequence\n",
    "      namespace: sequence\n",
    "%EOF%"
   ]
  },
  {
   "cell_type": "code",
   "execution_count": null,
   "metadata": {},
   "outputs": [],
   "source": [
    "! kubectl get pods --namespace sequence"
   ]
  },
  {
   "cell_type": "code",
   "execution_count": null,
   "metadata": {},
   "outputs": [],
   "source": [
    "%%bash\n",
    "curl -v -H \"Host: first.sequence.example.com\" \\\n",
    "        -H \"Content-Type: application/json\" \\\n",
    "        istio-ingressgateway.istio-system -d '{\"message\": \"DatenSequence\"}'"
   ]
  },
  {
   "cell_type": "code",
   "execution_count": null,
   "metadata": {},
   "outputs": [],
   "source": [
    "! kubectl -n sequence logs -l serving.knative.dev/service=first -c user-container "
   ]
  },
  {
   "cell_type": "markdown",
   "metadata": {},
   "source": [
    "Aufräumen"
   ]
  },
  {
   "cell_type": "code",
   "execution_count": null,
   "metadata": {},
   "outputs": [],
   "source": [
    "! kubectl delete namespace sequence-example"
   ]
  },
  {
   "cell_type": "code",
   "execution_count": null,
   "metadata": {},
   "outputs": [],
   "source": []
  }
 ],
 "metadata": {
  "kernelspec": {
   "display_name": "Python 3",
   "language": "python",
   "name": "python3"
  },
  "language_info": {
   "codemirror_mode": {
    "name": "ipython",
    "version": 3
   },
   "file_extension": ".py",
   "mimetype": "text/x-python",
   "name": "python",
   "nbconvert_exporter": "python",
   "pygments_lexer": "ipython3",
   "version": "3.7.3"
  }
 },
 "nbformat": 4,
 "nbformat_minor": 2
}
