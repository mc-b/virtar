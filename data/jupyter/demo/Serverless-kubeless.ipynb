{
 "cells": [
  {
   "cell_type": "markdown",
   "metadata": {},
   "source": [
    "Kubeless\n",
    "========\n",
    "\n",
    "Kubeless ist ein natives serverloses Framework, mit dem Sie kleine Code-Bits (Funktionen) bereitstellen können, ohne sich um die zugrunde liegende Infrastruktur kümmern zu müssen. Es wurde entwickelt, um auf einem Kubernetes-Cluster eingesetzt zu werden und alle großen Kubernetes-Primitive zu nutzen."
   ]
  },
  {
   "cell_type": "markdown",
   "metadata": {},
   "source": [
    "Installation\n",
    "----------------\n",
    "\n",
    "Zuerst brauchen wir das kubeless CLI. Diese können wir von der [Release Page](https://github.com/kubeless/kubeless/releases) downloaden, entpacken und hier abstellen.\n",
    "\n",
    "**Installation Serverteil:**"
   ]
  },
  {
   "cell_type": "code",
   "execution_count": null,
   "metadata": {},
   "outputs": [],
   "source": [
    "%%bash\n",
    "export RELEASE=$(curl -s https://api.github.com/repos/kubeless/kubeless/releases/latest | grep tag_name | cut -d '\"' -f 4)\n",
    "kubectl create ns kubeless\n",
    "kubectl apply -f https://github.com/kubeless/kubeless/releases/download/$RELEASE/kubeless-$RELEASE.yaml\n",
    "echo \"----------------------------------------\"\n",
    "kubectl get all -n kubeless"
   ]
  },
  {
   "cell_type": "markdown",
   "metadata": {},
   "source": [
    "**Installation CLI:**"
   ]
  },
  {
   "cell_type": "code",
   "execution_count": null,
   "metadata": {},
   "outputs": [],
   "source": [
    "%%bash\n",
    "export RELEASE=$(curl -s https://api.github.com/repos/kubeless/kubeless/releases/latest | grep tag_name | cut -d '\"' -f 4)\n",
    "curl -OL https://github.com/kubeless/kubeless/releases/download/$RELEASE/kubeless_linux-amd64.zip && \\\n",
    "  unzip kubeless_linux-amd64.zip && \\\n",
    "  mv bundles/kubeless_linux-amd64/kubeless kubeless"
   ]
  },
  {
   "cell_type": "markdown",
   "metadata": {},
   "source": [
    "- - -\n",
    "Nun sind wir bereit und können sogenannte **Functions** deployen.\n",
    "\n",
    "Die Funktion bzw. Datei erstellen wir uns mittels `cat` und veröffentlichen diese mit `kubeless`"
   ]
  },
  {
   "cell_type": "code",
   "execution_count": null,
   "metadata": {},
   "outputs": [],
   "source": [
    "%%bash\n",
    "# Create Function (bzw. Datei helloget.js)\n",
    "cat <<%EOF% >test.py\n",
    "def hello(event, context):\n",
    "  print event\n",
    "  return event['data']\n",
    "%EOF%\n",
    "\n",
    "# Deploy Function\n",
    "./kubeless function deploy hello --runtime python2.7 \\\n",
    "                                 --from-file test.py \\\n",
    "                                 --handler test.hello"
   ]
  },
  {
   "cell_type": "markdown",
   "metadata": {},
   "source": [
    "Ob die Funktion veröffentlich wurde und aktiv ist, kann via `kubeless` abgefragt werden.\n",
    "\n",
    "Welche Ressourcen in Kubernetes angelegt wurden liefert `kubectl get all -l function=<name>`"
   ]
  },
  {
   "cell_type": "code",
   "execution_count": null,
   "metadata": {},
   "outputs": [],
   "source": [
    "! ./kubeless function ls\n",
    "! kubectl get all -l function=hello"
   ]
  },
  {
   "cell_type": "markdown",
   "metadata": {},
   "source": [
    "Nach erfolgreicher veröffentlichung der Funktion können wir diese nun aufrufen:"
   ]
  },
  {
   "cell_type": "code",
   "execution_count": null,
   "metadata": {},
   "outputs": [],
   "source": [
    "! ./kubeless function call hello --data 'Hello world!'"
   ]
  },
  {
   "cell_type": "markdown",
   "metadata": {},
   "source": [
    "- - -\n",
    "Was fehlt ist ein User Interface um unsere Funktionen zu verwalten. Glücklicherweise liefert `kubeless` ein solches gleich mit:"
   ]
  },
  {
   "cell_type": "code",
   "execution_count": null,
   "metadata": {},
   "outputs": [],
   "source": [
    "%%bash\n",
    "kubectl apply -f https://raw.githubusercontent.com/kubeless/kubeless-ui/master/k8s.yaml\n",
    "kubectl config view -o=jsonpath='{ .clusters[0].cluster.server }' | \\\n",
    "sed -e 's/https:/http:/' -e \"s/6443/$(kubectl get service -l controller=ui --namespace kubeless -o=jsonpath='{ .items[0].spec.ports[0].nodePort }')/\""
   ]
  },
  {
   "cell_type": "markdown",
   "metadata": {},
   "source": [
    "- - -\n",
    "Aufräumen"
   ]
  },
  {
   "cell_type": "code",
   "execution_count": null,
   "metadata": {},
   "outputs": [],
   "source": [
    "! ./kubeless function delete hello"
   ]
  },
  {
   "cell_type": "code",
   "execution_count": null,
   "metadata": {},
   "outputs": [],
   "source": []
  }
 ],
 "metadata": {
  "kernelspec": {
   "display_name": "Python 3",
   "language": "python",
   "name": "python3"
  },
  "language_info": {
   "codemirror_mode": {
    "name": "ipython",
    "version": 3
   },
   "file_extension": ".py",
   "mimetype": "text/x-python",
   "name": "python",
   "nbconvert_exporter": "python",
   "pygments_lexer": "ipython3",
   "version": "3.7.3"
  }
 },
 "nbformat": 4,
 "nbformat_minor": 2
}
