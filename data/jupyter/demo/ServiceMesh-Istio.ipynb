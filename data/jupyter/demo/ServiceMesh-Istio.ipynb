{
 "cells": [
  {
   "cell_type": "markdown",
   "metadata": {},
   "source": [
    "Service Mesh - Istio\n",
    "--------------------\n",
    "\n",
    "![](https://istio.io/latest/docs/ops/deployment/architecture/arch.svg)\n",
    "\n",
    "Quelle: istio.io\n",
    "\n",
    "- - -\n",
    "\n",
    "Cloud-Plattformen bieten den Unternehmen, die sie verwenden, zahlreiche Vorteile.\n",
    "\n",
    "Dazu müssen Entwickler das Architekturmuster Microservices verwenden, was dazu führt das schnell Unterschiedliche Versionen von Microservices parallel betrieben werden müssen.\n",
    "\n",
    "Mit den vielfältigen Funktionen von [Istio](http://istio.io) kann man eine verteilte Microservice-Architektur erfolgreich und effizient ausführen und auf einheitliche Weise Microservices absichern, verbinden und überwachen.\n",
    "\n",
    "Es ist ein vollständiger Open-Source-Service-Mesh, das auf vorhandenen verteilten Anwendungen aufbaut."
   ]
  },
  {
   "cell_type": "markdown",
   "metadata": {},
   "source": [
    "***\n",
    "### Was ist ein Service-Mesh?\n",
    "\n",
    "Der Begriff Service-Mesh beschreibt das Netzwerk von Microservices und die Wechselwirkungen zwischen ihnen. \n",
    "\n",
    "Je grösser und komplexer ein Service-Mesh wird, desto schwieriger ist es, es zu verstehen und zu verwalten. \n",
    "\n",
    "Zu den Anforderungen zählen Erkennung, Lastenausgleich, Fehlerbehebung, Metriken und Überwachung. \n",
    "\n",
    "Ein Service-Mesh hat häufig komplexere betriebliche Anforderungen, wie A/B-Tests (Bewertung zweier Varianten), Canary-Rollouts, Beschränkungen, Zugangskontrolle und End-to-End-Authentifizierung.\n",
    "\n",
    "Weitere Informationen: [Istio Homepage](https://istio.io/docs/concepts/what-is-istio/)"
   ]
  },
  {
   "cell_type": "markdown",
   "metadata": {},
   "source": [
    "***\n",
    "### Installation\n",
    "\n",
    "Istio ist in der [duk-demo](https://github.com/mc-b/duk-demo) Umgebung bereits installiert. Ansonsten siehe Projekt [duk](https://github.com/mc-b/duk/tree/master/istio)."
   ]
  },
  {
   "cell_type": "markdown",
   "metadata": {},
   "source": [
    "***\n",
    "### Bookinfo Beispiel\n",
    "\n",
    "Die Beispielanwendung zeigt Informationen zu einem Buch an, ähnlich einem einzelnen Katalogeintrag eines Online-Buchladens. Auf der Seite werden eine Beschreibung des Buches, Buchdetails (ISBN, Seitenzahl usw.) und einige Buchbesprechungen angezeigt.\n",
    "\n",
    "Für Details siehe [Bookinfo Application](https://istio.io/docs/examples/bookinfo/) und den [Sourcecode auf Github](https://github.com/istio/istio/tree/master/samples/bookinfo). \n",
    "\n",
    "Die Beispielanwendung ist Bestandteil der Istio Sourcen. Deshalb müssen wir diese zuerst downloaden, dann erstellen wir einen eigenen Namespace wo istio aktiviert ist und darin die Bookinfo Beispielanwendung.\n"
   ]
  },
  {
   "cell_type": "code",
   "execution_count": null,
   "metadata": {},
   "outputs": [],
   "source": [
    "! curl -s -L https://istio.io/downloadIstio | ISTIO_VERSION=1.6.8 sh -\n",
    "! ls -l istio-1.6.8/samples/bookinfo"
   ]
  },
  {
   "cell_type": "code",
   "execution_count": null,
   "metadata": {},
   "outputs": [],
   "source": [
    "! kubectl create namespace bookinfo\n",
    "! kubectl label namespace bookinfo istio-injection=enabled\n",
    "! kubectl apply -f istio-1.6.8/samples/bookinfo/platform/kube/bookinfo.yaml -n bookinfo\n",
    "! kubectl apply -f istio-1.6.8/samples/bookinfo/networking/bookinfo-gateway.yaml -n bookinfo\n",
    "! kubectl apply -f istio-1.6.8/samples/bookinfo/networking/destination-rule-all.yaml -n bookinfo"
   ]
  },
  {
   "cell_type": "markdown",
   "metadata": {},
   "source": [
    "Neben Pods, Services etc. wurden auch weitere Ressourcen erstellt wie:\n",
    "* [Gateway](https://istio.io/docs/concepts/traffic-management/#gateways) - für den Zugriff von ausserhalb des Clusters\n",
    "* [Virtual Service](https://istio.io/docs/concepts/traffic-management/#virtual-services) - mit den URL Paths \n",
    "* [Routing Rule](https://istio.io/docs/concepts/traffic-management/#routing-rules) - mit den Regeln was wo weitergeleitet wird.\n"
   ]
  },
  {
   "cell_type": "code",
   "execution_count": null,
   "metadata": {},
   "outputs": [],
   "source": [
    "! kubectl get all,gw,vs,dr -n bookinfo"
   ]
  },
  {
   "cell_type": "code",
   "execution_count": null,
   "metadata": {},
   "outputs": [],
   "source": [
    "! kubectl get gw,vs,dr -n bookinfo -o yaml"
   ]
  },
  {
   "cell_type": "markdown",
   "metadata": {},
   "source": [
    "Schauen wir uns aber zuerst die Applikation an. \n",
    "\n",
    "![](https://istio.io/latest/docs/examples/bookinfo/noistio.svg)\n",
    "\n",
    "Quelle: istio.io\n",
    "\n",
    "- - - \n",
    "\n",
    "Die Bookinfo-Anwendung ist in vier separate Microservices unterteilt:\n",
    "\n",
    "* productpage: Der productpage Microservice ruft die Microservices details und reviews auf, um die Seite zu füllen.\n",
    "* details: Der details Microservice enthält Buchinformationen.\n",
    "* reviews: Der reviews Microservice enthält Buchbesprechungen. Es ruft auch den ratings Microservice auf.\n",
    "* ratings: Der ratings Microservice enthält Buchranginformationen, die einer Buchbesprechung beigefügt sind.\n",
    "\n",
    "Es gibt 3 Versionen des reviews Microservice:\n",
    "* Version v1 ruft den ratings Microservice nicht auf.\n",
    "* Version v2 ruft den ratings Microservice auf und zeigt jede Bewertung als 1 bis 5 schwarze Sterne an.\n",
    "* Version v3 ruft den ratings Microservice auf und zeigt jede Bewertung als 1 bis 5 rote Sterne an.\n",
    "\n",
    "Diese Anwendung sind in mehreren Programmiersprache implementiert.\n",
    "\n",
    "Die Microservices enthalten keine Abhängigkeiten und wissen auch nichts von Istio. Sie wurden auch nicht speziell Angepasst um mit Istio zu funktionieren.\n",
    "\n",
    "Das User Interface kann wie folgt angewählt werden:"
   ]
  },
  {
   "cell_type": "code",
   "execution_count": null,
   "metadata": {},
   "outputs": [],
   "source": [
    "! echo \"$(kubectl config view -o=jsonpath='{ .clusters[0].cluster.server }' | sed -e 's/https:/http:/' -e \"s/6443/$(kubectl --namespace istio-system get service istio-ingressgateway -o jsonpath='{ .spec.ports[1].nodePort }')/g\")/productpage\""
   ]
  },
  {
   "cell_type": "markdown",
   "metadata": {},
   "source": [
    "Wählen wir die Seite mehrmals an, wird abwechselnd einer der drei Version vom Microservice `reviews` aufgerufen.\n",
    "\n",
    "Um gezielt:\n",
    "\n",
    "* nur eine Version aufzurufen, Version 1 oder 3\n",
    "* Analog eines Canary Rollout 50/50 Prozent Version 2 und 3 aufzurufen\n",
    "\n",
    "stehen vorbereitete YAML Dateien zu Verfügung. Führen Sie diese jeweils einzeln aus und Testen im UI den Effekt. Dabei kann 1 - 2 Minuten dauern, bis die Regeln aktiv werden."
   ]
  },
  {
   "cell_type": "code",
   "execution_count": null,
   "metadata": {},
   "outputs": [],
   "source": [
    "! kubectl apply -f istio-1.6.8/samples/bookinfo/networking/virtual-service-all-v1.yaml -n bookinfo"
   ]
  },
  {
   "cell_type": "code",
   "execution_count": null,
   "metadata": {},
   "outputs": [],
   "source": [
    "! kubectl apply -f istio-1.6.8/samples/bookinfo/networking/virtual-service-reviews-v3.yaml -n bookinfo"
   ]
  },
  {
   "cell_type": "code",
   "execution_count": null,
   "metadata": {},
   "outputs": [],
   "source": [
    "! kubectl apply -f istio-1.6.8/samples/bookinfo/networking/virtual-service-reviews-v2-v3.yaml -n bookinfo"
   ]
  },
  {
   "cell_type": "markdown",
   "metadata": {},
   "source": [
    "*** \n",
    "### Tools\n",
    "\n",
    "#### Kiali — Observability\n",
    "\n",
    "[Kiali](https://www.kiali.io/) ist eine Web UI für Istio. Es hilft Ihnen, die Struktur Ihres Servicenetzes und deren Topologie zu verstehen.\n",
    "  \n",
    "#### Jaeger — Tracing\n",
    "\n",
    "Die Ablaufinformationen für Kiali werden durch das verteiltes Tracing-System [Jaeger](https://www.jaegertracing.io/) bereitgestellt.\n",
    "\n",
    "Beide Tools sind jedoch nur auf dem Cluster zugänglich. Deshalb müssen wir diese zuerst freischalten bzw. gegen NodePort öffnen:"
   ]
  },
  {
   "cell_type": "code",
   "execution_count": null,
   "metadata": {},
   "outputs": [],
   "source": [
    "! kubectl get service -n istio-system -l app=kiali -o yaml | sed 's/ClusterIP/NodePort/g' | kubectl apply -f -\n",
    "! kubectl get service jaeger-query -n istio-system -o yaml | sed 's/ClusterIP/NodePort/g' | kubectl apply -f -"
   ]
  },
  {
   "cell_type": "markdown",
   "metadata": {},
   "source": [
    "Sind Sie freigeschaltet, können wir Sie wie andere Services via Cluster-IP und Port erreichen:"
   ]
  },
  {
   "cell_type": "code",
   "execution_count": null,
   "metadata": {},
   "outputs": [],
   "source": [
    "! echo \"Kiali  UI: \" $(kubectl config view -o=jsonpath='{ .clusters[0].cluster.server }' | sed -e 's/https:/http:/' -e \"s/6443/$(kubectl get service -n istio-system -l app=kiali -o yaml -o=jsonpath='{ .items[0].spec.ports[0].nodePort }')/g\")\n",
    "! echo \"Jeager UI: \" $(kubectl config view -o=jsonpath='{ .clusters[0].cluster.server }' | sed -e 's/https:/http:/' -e \"s/6443/$(kubectl get service jaeger-query -n istio-system -o=jsonpath='{ .spec.ports[0].nodePort }')/g\")  "
   ]
  },
  {
   "cell_type": "markdown",
   "metadata": {},
   "source": [
    "Aufräumen"
   ]
  },
  {
   "cell_type": "code",
   "execution_count": null,
   "metadata": {},
   "outputs": [],
   "source": [
    "! kubectl delete namespace bookinfo"
   ]
  },
  {
   "cell_type": "markdown",
   "metadata": {},
   "source": [
    "***\n",
    "\n",
    "Weitere Beispiele siehe Projekt [duk](https://github.com/mc-b/duk/tree/master/istio).\n"
   ]
  },
  {
   "cell_type": "code",
   "execution_count": null,
   "metadata": {},
   "outputs": [],
   "source": []
  }
 ],
 "metadata": {
  "kernelspec": {
   "display_name": "Python 3",
   "language": "python",
   "name": "python3"
  },
  "language_info": {
   "codemirror_mode": {
    "name": "ipython",
    "version": 3
   },
   "file_extension": ".py",
   "mimetype": "text/x-python",
   "name": "python",
   "nbconvert_exporter": "python",
   "pygments_lexer": "ipython3",
   "version": "3.8.5"
  }
 },
 "nbformat": 4,
 "nbformat_minor": 2
}
