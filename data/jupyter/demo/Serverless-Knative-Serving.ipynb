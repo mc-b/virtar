{
 "cells": [
  {
   "cell_type": "markdown",
   "metadata": {},
   "source": [
    "# Knative\n",
    "\n",
    "Knative (ausgesprochen kay-nay-tiv) erweitert Kubernetes um eine Reihe von Middleware-Komponenten, die für die Erstellung moderner, container-basierter Anwendungen unerlässlich sind.\n",
    "\n",
    "Knative Komponenten konzentrieren sich auf die Lösung alltäglicher, aber schwieriger Aufgaben wie:\n",
    "\n",
    "* Bereitstellen eines Containers\n",
    "* Routing und Verwaltung des Datenverkehrs mit blue / green Bereitstellung\n",
    "* Automatische Skalierung des Workloads\n",
    "* Bindung laufender Dienste an mehrere Ökosysteme"
   ]
  },
  {
   "cell_type": "markdown",
   "metadata": {},
   "source": [
    "***\n",
    "## Serving\n",
    "\n",
    "![](https://github.com/knative/serving/raw/main/docs/spec/images/object_model.png)\n",
    "\n",
    "Quelle: [knative.dev](https://knative.dev/docs/serving/#serving-resources)\n",
    "- - -\n",
    "\n",
    "Knative Serving baut auf Kubernetes und Istio auf, um die Bereitstellung von Anwendungen und Funktionen ohne Server (Serverless, Function as a Service FaaS) zu unterstützen. \n",
    "\n",
    "Das Knative Serving-Projekt bietet Middleware-Grundelemente, die Folgendes ermöglichen:\n",
    "\n",
    "* Schnelle Bereitstellung von Services ohne Server\n",
    "* Automatische Skalierung auf 0\n",
    "* Routing und Netzwerkeinstellungen für Istio-Komponenten\n",
    "* Momentaufnahmen von bereitgestelltem Code und bereitgestellten Konfigurationen\n",
    "\n",
    "### Installation\n",
    "\n",
    "* [Installing Knative Serving using YAML files](https://knative.dev/docs/install/yaml-install/serving/install-serving-with-yaml/#install-the-knative-serving-component)"
   ]
  },
  {
   "cell_type": "code",
   "execution_count": null,
   "metadata": {},
   "outputs": [],
   "source": [
    "%%bash\n",
    "kubectl apply -f https://github.com/knative/serving/releases/download/knative-v1.7.2/serving-crds.yaml\n",
    "kubectl apply -f https://github.com/knative/serving/releases/download/knative-v1.7.2/serving-core.yaml\n",
    "kubectl apply -l knative.dev/crd-install=true -f https://github.com/knative/net-istio/releases/download/knative-v1.7.0/istio.yaml\n",
    "kubectl apply -f https://github.com/knative/net-istio/releases/download/knative-v1.7.0/istio.yaml\n",
    "kubectl apply -f https://github.com/knative/net-istio/releases/download/knative-v1.7.0/net-istio.yaml\n"
   ]
  },
  {
   "cell_type": "markdown",
   "metadata": {},
   "source": [
    "Installation überprüfen. Es müssen 8 Container gestartet sein."
   ]
  },
  {
   "cell_type": "code",
   "execution_count": null,
   "metadata": {},
   "outputs": [],
   "source": [
    "%%bash\n",
    "kubectl get pods -n knative-serving\n",
    "kubectl --namespace istio-system get service istio-ingressgateway"
   ]
  },
  {
   "cell_type": "markdown",
   "metadata": {},
   "source": [
    "***\n",
    "### Beispiel Serving - Skalierung auf 0\n",
    "\n",
    "Nehmen wir an wir haben einen Service welcher nur 1 - 2 im Monat verwendet wird.\n",
    "\n",
    "Um keine Rechnenleistung zu verschwenden, soll dieser Service nur gestartet werden, wenn er wirklich gebraucht wird.\n",
    "\n",
    "Deshalb wird der Service \"Serverless\" implementiert."
   ]
  },
  {
   "cell_type": "code",
   "execution_count": null,
   "metadata": {},
   "outputs": [],
   "source": [
    "! kubectl create namespace serving"
   ]
  },
  {
   "cell_type": "code",
   "execution_count": null,
   "metadata": {},
   "outputs": [],
   "source": [
    "%%bash\n",
    "cat <<%EOF% | kubectl apply -f -\n",
    "apiVersion: serving.knative.dev/v1 # Current version of Knative\n",
    "kind: Service\n",
    "metadata:\n",
    "  name: helloworld-go # The name of the app\n",
    "  namespace: serving # The namespace the app will use\n",
    "spec:\n",
    "  template:\n",
    "    spec:\n",
    "      containers:\n",
    "        - image: gcr.io/knative-samples/helloworld-go # The URL to the image of the app\n",
    "          env:\n",
    "            - name: TARGET # The environment variable printed out by the sample app\n",
    "              value: \"ich werde nur auf Anforderung gestartet\"\n",
    "%EOF%"
   ]
  },
  {
   "cell_type": "markdown",
   "metadata": {},
   "source": [
    "Schauen wir uns nun die erstellten Ressourcen an.\n",
    "\n",
    "Der eigentliche Service (Pods) wird am Anfang gestartet und nach einer bestimmen Leerlaufzeit beendet. Das ReplicaSet setzt die Anzahl Pods auf 0."
   ]
  },
  {
   "cell_type": "code",
   "execution_count": null,
   "metadata": {},
   "outputs": [],
   "source": [
    "! kubectl get all --namespace serving"
   ]
  },
  {
   "cell_type": "markdown",
   "metadata": {},
   "source": [
    "Der Aufruf des Services erfolgt via Istio. Dabei ist explizit der Hostname (HTTP Header Host:) mit anzugeben.\n",
    "\n",
    "Das erste Mal dauert der Aufruf relativ lange (Latenzzeit), weil der Pods zuerst gestartet werden muss.\n",
    "\n",
    "Alternativ könnten wir den Hosteintrag in die `hosts` Datei eintragen oder einen DNS Server verwenden.\n",
    "\n",
    "**ACHTUNG**: damit es funktioniert müssen oben alle Ressourcen den Status Ready=True haben. "
   ]
  },
  {
   "cell_type": "code",
   "execution_count": null,
   "metadata": {},
   "outputs": [],
   "source": [
    "%%bash\n",
    "date\n",
    "curl -H \"Host: helloworld-go.serving.example.com\" istio-ingressgateway.istio-system\n",
    "date\n",
    "# zweiter Start\n",
    "curl -H \"Host: helloworld-go.serving.example.com\" istio-ingressgateway.istio-system\n",
    "date"
   ]
  },
  {
   "cell_type": "markdown",
   "metadata": {},
   "source": [
    "- - -\n",
    "Aufräumen, kann auch Verwendet werden wenn die Ressoucen auf Status Ready=Unknown verbleiben."
   ]
  },
  {
   "cell_type": "code",
   "execution_count": null,
   "metadata": {},
   "outputs": [],
   "source": [
    "! kubectl delete namespace serving"
   ]
  },
  {
   "cell_type": "code",
   "execution_count": null,
   "metadata": {},
   "outputs": [],
   "source": []
  }
 ],
 "metadata": {
  "kernelspec": {
   "display_name": "Python 3 (ipykernel)",
   "language": "python",
   "name": "python3"
  },
  "language_info": {
   "codemirror_mode": {
    "name": "ipython",
    "version": 3
   },
   "file_extension": ".py",
   "mimetype": "text/x-python",
   "name": "python",
   "nbconvert_exporter": "python",
   "pygments_lexer": "ipython3",
   "version": "3.9.6"
  }
 },
 "nbformat": 4,
 "nbformat_minor": 2
}
